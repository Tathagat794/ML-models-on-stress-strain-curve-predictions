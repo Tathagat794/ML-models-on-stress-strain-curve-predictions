{
  "nbformat": 4,
  "nbformat_minor": 0,
  "metadata": {
    "colab": {
      "provenance": []
    },
    "kernelspec": {
      "name": "python3",
      "display_name": "Python 3"
    },
    "language_info": {
      "name": "python"
    }
  },
  "cells": [
    {
      "cell_type": "code",
      "execution_count": null,
      "metadata": {
        "id": "6wl16ffOHF_C"
      },
      "outputs": [],
      "source": [
        "import pandas as pd\n",
        "import numpy as np\n",
        "from sklearn.ensemble import RandomForestRegressor\n",
        "from sklearn.model_selection import train_test_split\n",
        "from sklearn.model_selection import train_test_split, GridSearchCV\n",
        "from sklearn.metrics import mean_squared_error\n",
        "from sklearn.metrics import r2_score\n",
        "from sklearn.ensemble import GradientBoostingRegressor\n",
        "from sklearn.tree import DecisionTreeRegressor\n",
        "from sklearn.ensemble import AdaBoostRegressor"
      ]
    },
    {
      "cell_type": "code",
      "source": [
        "df= pd.read_csv('Data_GS.csv')\n",
        "from sklearn.preprocessing import MaxAbsScaler\n",
        "scaler = MaxAbsScaler()\n",
        "X = df.drop('stress', axis=1)\n",
        "y = df['stress']\n",
        "X_train, X_test, y_train, y_test = train_test_split(X, y, test_size=0.2, random_state=42)\n",
        "X_train_scaled = scaler.fit_transform(X_train)\n",
        "X_test_scaled = scaler.transform(X_test)"
      ],
      "metadata": {
        "id": "PbMuypNWIFRv"
      },
      "execution_count": null,
      "outputs": []
    },
    {
      "cell_type": "markdown",
      "source": [],
      "metadata": {
        "id": "P2Tliy3uJIdE"
      }
    },
    {
      "cell_type": "code",
      "source": [
        "adaboost_regressor.fit(X_train_scaled, y_train)\n",
        "y_pred = adaboost_regressor.predict(X_test_scaled)"
      ],
      "metadata": {
        "id": "Q22bA7pFIglt"
      },
      "execution_count": null,
      "outputs": []
    },
    {
      "cell_type": "code",
      "source": [
        "mse = mean_squared_error(y_test, y_pred)\n",
        "rmse = np.sqrt(mse)\n",
        "print(\"Root Mean Squared Error:\", rmse)\n",
        "r2 = r2_score(y_test, y_pred)\n",
        "print(f\"R2 Score: {r2}\")"
      ],
      "metadata": {
        "colab": {
          "base_uri": "https://localhost:8080/"
        },
        "id": "-HPo1I_EJJA0",
        "outputId": "bb666106-6fbb-49ca-a134-061ee2c9aca3"
      },
      "execution_count": null,
      "outputs": [
        {
          "output_type": "stream",
          "name": "stdout",
          "text": [
            "Root Mean Squared Error: 0.05917368723696762\n",
            "R2 Score: 0.9562049217119009\n"
          ]
        }
      ]
    },
    {
      "cell_type": "code",
      "source": [
        "df2=pd.read_csv('testsscurve.csv')\n",
        "x1_test=df2.drop('stress',axis=1)\n",
        "y1_test=df2['stress']\n",
        "x1_test_scaled=scaler.transform(x1_test)\n",
        "y1_pred = adaboost_regressor.predict(x1_test_scaled)\n",
        "r2 = r2_score(y1_test, y1_pred)\n",
        "print(f\"R2 Score: {r2}\")\n",
        "mse = mean_squared_error(y_test, y_pred)\n",
        "print(f\"Mean Squared Error: {mse}\")\n",
        "rmse=np.sqrt(mse)\n",
        "print(f\"Root Mean Squared Error: {rmse}\")"
      ],
      "metadata": {
        "colab": {
          "base_uri": "https://localhost:8080/"
        },
        "id": "Dp4PURVrJqkU",
        "outputId": "01ee4aa3-bc19-4c70-eae7-7fc965c4742b"
      },
      "execution_count": null,
      "outputs": [
        {
          "output_type": "stream",
          "name": "stdout",
          "text": [
            "R2 Score: 0.9397105193748262\n",
            "Mean Squared Error: 0.003501525261218465\n",
            "Root Mean Squared Error: 0.05917368723696762\n"
          ]
        }
      ]
    },
    {
      "cell_type": "code",
      "source": [
        "np.savetxt('output_adaboost.csv',y1_pred, delimiter=',', fmt='%f')"
      ],
      "metadata": {
        "id": "vaTbVf5uJ03m"
      },
      "execution_count": null,
      "outputs": []
    },
    {
      "cell_type": "code",
      "source": [],
      "metadata": {
        "id": "4crKq1gjKc5n"
      },
      "execution_count": null,
      "outputs": []
    }
  ]
}