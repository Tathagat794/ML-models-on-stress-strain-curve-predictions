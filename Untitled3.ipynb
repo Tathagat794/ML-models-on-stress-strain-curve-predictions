{
  "nbformat": 4,
  "nbformat_minor": 0,
  "metadata": {
    "colab": {
      "provenance": [],
      "gpuType": "T4"
    },
    "kernelspec": {
      "name": "python3",
      "display_name": "Python 3"
    },
    "language_info": {
      "name": "python"
    },
    "accelerator": "GPU"
  },
  "cells": [
    {
      "cell_type": "code",
      "source": [
        "import pandas as pd\n",
        "import numpy as np\n",
        "from sklearn.ensemble import RandomForestRegressor\n",
        "from sklearn.model_selection import train_test_split\n",
        "from sklearn.model_selection import train_test_split, GridSearchCV\n",
        "from sklearn.metrics import mean_squared_error\n",
        "from sklearn.metrics import r2_score\n",
        "from sklearn.ensemble import GradientBoostingRegressor"
      ],
      "metadata": {
        "id": "CMsYjixhw6lE"
      },
      "execution_count": null,
      "outputs": []
    },
    {
      "cell_type": "code",
      "execution_count": null,
      "metadata": {
        "id": "qiBnKoT5v3Wv"
      },
      "outputs": [],
      "source": [
        "df= pd.read_csv('Data_GS.csv')"
      ]
    },
    {
      "cell_type": "code",
      "source": [
        "df.info()"
      ],
      "metadata": {
        "colab": {
          "base_uri": "https://localhost:8080/"
        },
        "id": "evAeaW_Cx5-o",
        "outputId": "e0b82ff2-113a-406a-8ef1-553f184d04d6"
      },
      "execution_count": null,
      "outputs": [
        {
          "output_type": "stream",
          "name": "stdout",
          "text": [
            "<class 'pandas.core.frame.DataFrame'>\n",
            "RangeIndex: 200980 entries, 0 to 200979\n",
            "Data columns (total 4 columns):\n",
            " #   Column       Non-Null Count   Dtype  \n",
            "---  ------       --------------   -----  \n",
            " 0   strain       200980 non-null  float64\n",
            " 1   stress       200980 non-null  float64\n",
            " 2   strain_rate  200980 non-null  int64  \n",
            " 3   temperature  200980 non-null  int64  \n",
            "dtypes: float64(2), int64(2)\n",
            "memory usage: 6.1 MB\n"
          ]
        }
      ]
    },
    {
      "cell_type": "code",
      "source": [
        "from sklearn.preprocessing import MaxAbsScaler"
      ],
      "metadata": {
        "id": "f6Z2p5XoyBWQ"
      },
      "execution_count": null,
      "outputs": []
    },
    {
      "cell_type": "code",
      "source": [
        "scaler = MaxAbsScaler()"
      ],
      "metadata": {
        "id": "0VAPTPa_4Eut"
      },
      "execution_count": null,
      "outputs": []
    },
    {
      "cell_type": "code",
      "source": [
        "X = df.drop('stress', axis=1)\n",
        "y = df['stress']"
      ],
      "metadata": {
        "id": "3Dwe72354Ma0"
      },
      "execution_count": null,
      "outputs": []
    },
    {
      "cell_type": "code",
      "source": [
        "X_train, X_test, y_train, y_test = train_test_split(X, y, test_size=0.2, random_state=42)"
      ],
      "metadata": {
        "id": "VvmBheUp5qoF"
      },
      "execution_count": null,
      "outputs": []
    },
    {
      "cell_type": "code",
      "source": [
        "X_train_scaled = scaler.fit_transform(X_train)\n",
        "X_test_scaled = scaler.transform(X_test)"
      ],
      "metadata": {
        "id": "rjXyQJbl6gGY"
      },
      "execution_count": null,
      "outputs": []
    },
    {
      "cell_type": "code",
      "source": [
        "rf_regressor = RandomForestRegressor(n_estimators=100, random_state=42)\n",
        "rf_regressor.fit(X_train_scaled, y_train)\n",
        "y_pred = rf_regressor.predict(X_test_scaled)\n",
        "mse = mean_squared_error(y_test, y_pred)\n",
        "rmse = np.sqrt(mse)\n",
        "print(\"Root Mean Squared Error:\", rmse)\n",
        "\n",
        "print(\"Mean Squared Error: {mse}\")"
      ],
      "metadata": {
        "colab": {
          "base_uri": "https://localhost:8080/"
        },
        "id": "ADD6o4PO6lg-",
        "outputId": "be6fe397-e650-47a6-ec96-3a64111bfa54"
      },
      "execution_count": null,
      "outputs": [
        {
          "output_type": "stream",
          "name": "stdout",
          "text": [
            "Root Mean Squared Error: 0.01172519009241507\n",
            "Mean Squared Error: {mse}\n"
          ]
        }
      ]
    },
    {
      "cell_type": "code",
      "source": [
        "print(f\"Mean Squared Error: {mse}\")"
      ],
      "metadata": {
        "colab": {
          "base_uri": "https://localhost:8080/"
        },
        "id": "bJ4qhFXR8-86",
        "outputId": "cd4401ee-293e-4f3d-9db7-d7e1a7641b2c"
      },
      "execution_count": null,
      "outputs": [
        {
          "output_type": "stream",
          "name": "stdout",
          "text": [
            "Mean Squared Error: 0.00013748008270326851\n"
          ]
        }
      ]
    },
    {
      "cell_type": "code",
      "source": [
        "r2 = r2_score(y_test, y_pred)\n",
        "print(f\"R2 Score: {r2}\")"
      ],
      "metadata": {
        "colab": {
          "base_uri": "https://localhost:8080/"
        },
        "id": "c5D6Autp9CHH",
        "outputId": "8d79bccd-d82c-44b7-861d-340eb1fa637b"
      },
      "execution_count": null,
      "outputs": [
        {
          "output_type": "stream",
          "name": "stdout",
          "text": [
            "R2 Score: 0.9982804776387794\n"
          ]
        }
      ]
    },
    {
      "cell_type": "code",
      "source": [
        "df2=pd.read_csv('testsscurve.csv')"
      ],
      "metadata": {
        "id": "BFipzuas9YP0"
      },
      "execution_count": null,
      "outputs": []
    },
    {
      "cell_type": "code",
      "source": [
        "x1_test=df2.drop('stress',axis=1)\n",
        "y1_test=df2['stress']\n",
        "x1_test_scaled=scaler.transform(x1_test)"
      ],
      "metadata": {
        "id": "uF77gw9i9rb0"
      },
      "execution_count": null,
      "outputs": []
    },
    {
      "cell_type": "code",
      "source": [
        "y1_pred = rf_regressor.predict(x1_test_scaled)\n",
        "r2 = r2_score(y1_test, y1_pred)\n",
        "print(f\"R2 Score: {r2}\")\n",
        "mse = mean_squared_error(y_test, y_pred)\n",
        "print(f\"Mean Squared Error: {mse}\")\n"
      ],
      "metadata": {
        "colab": {
          "base_uri": "https://localhost:8080/"
        },
        "id": "PSb7csoV_zJd",
        "outputId": "9f3c1986-7196-4a02-9c50-163d191e766b"
      },
      "execution_count": null,
      "outputs": [
        {
          "output_type": "stream",
          "name": "stdout",
          "text": [
            "R2 Score: 0.8593458124335426\n",
            "Mean Squared Error: 0.00013748008270326851\n"
          ]
        }
      ]
    },
    {
      "cell_type": "code",
      "source": [
        "np.savetxt('output.csv',y1_pred, delimiter=',', fmt='%f')"
      ],
      "metadata": {
        "id": "z1mKVMGtYEOO"
      },
      "execution_count": null,
      "outputs": []
    },
    {
      "cell_type": "code",
      "source": [
        "rmse=np.sqrt(mse)\n",
        "print(f\"Root Mean Squared Error: {rmse}\")"
      ],
      "metadata": {
        "colab": {
          "base_uri": "https://localhost:8080/"
        },
        "id": "jzW9engeAtOB",
        "outputId": "804ed1de-886d-4396-d626-06667b404114"
      },
      "execution_count": null,
      "outputs": [
        {
          "output_type": "stream",
          "name": "stdout",
          "text": [
            "Root Mean Squared Error: 0.01172519009241507\n"
          ]
        }
      ]
    },
    {
      "cell_type": "code",
      "source": [
        "gb_regressor = GradientBoostingRegressor(random_state=42)"
      ],
      "metadata": {
        "id": "-McqKbziJVut"
      },
      "execution_count": null,
      "outputs": []
    },
    {
      "cell_type": "code",
      "source": [
        "y1_predgb = rf_regressor.predict(x1_test_scaled)\n",
        "r2gb1 = r2_score(y1_test, y1_pred)\n",
        "print(f\"R2 Score: {r2gb1}\")\n",
        "rmsegb1 = np.sqrt(mean_squared_error(y1_test, y1_pred))\n",
        "print(f\"Root Mean Squared Error: {rmsegb1}\")"
      ],
      "metadata": {
        "colab": {
          "base_uri": "https://localhost:8080/"
        },
        "id": "X7zIdxnrFinz",
        "outputId": "612bdce5-dc87-4c76-bc6c-ae5c38ece634"
      },
      "execution_count": null,
      "outputs": [
        {
          "output_type": "stream",
          "name": "stdout",
          "text": [
            "R2 Score: 0.8593458124335426\n",
            "Root Mean Squared Error: 0.10628416763428446\n"
          ]
        }
      ]
    },
    {
      "cell_type": "code",
      "source": [],
      "metadata": {
        "id": "OePU9v7NGhc4"
      },
      "execution_count": null,
      "outputs": []
    }
  ]
}