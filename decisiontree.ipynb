{
 "cells": [
  {
   "cell_type": "code",
   "execution_count": 1,
   "id": "2f15ac44-cf7e-4211-9c8b-9ddcae395e63",
   "metadata": {},
   "outputs": [],
   "source": [
    "import pandas as pd\n",
    "import numpy as np\n",
    "from sklearn.ensemble import RandomForestRegressor\n",
    "from sklearn.model_selection import train_test_split\n",
    "from sklearn.model_selection import train_test_split, GridSearchCV\n",
    "from sklearn.metrics import mean_squared_error\n",
    "from sklearn.metrics import r2_score\n",
    "from sklearn.ensemble import GradientBoostingRegressor\n",
    "from sklearn.tree import DecisionTreeRegressor"
   ]
  },
  {
   "cell_type": "code",
   "execution_count": 2,
   "id": "bd75c8dc-bd09-4ebf-a12c-c418e94369cb",
   "metadata": {},
   "outputs": [],
   "source": [
    "df= pd.read_csv('Data_GS.csv')\n",
    "from sklearn.preprocessing import MaxAbsScaler\n",
    "scaler = MaxAbsScaler()\n",
    "X = df.drop('stress', axis=1)\n",
    "y = df['stress'] \n",
    "X_train, X_test, y_train, y_test = train_test_split(X, y, test_size=0.2, random_state=42)\n",
    "X_train_scaled = scaler.fit_transform(X_train)\n",
    "X_test_scaled = scaler.transform(X_test)\n"
   ]
  },
  {
   "cell_type": "code",
   "execution_count": 3,
   "id": "9acd51a3-d228-4ecf-8a6f-c0ade83081ba",
   "metadata": {},
   "outputs": [
    {
     "name": "stdout",
     "output_type": "stream",
     "text": [
      "Fitting 5 folds for each of 81 candidates, totalling 405 fits\n"
     ]
    }
   ],
   "source": [
    "dt_regressor = DecisionTreeRegressor( random_state=42) \n",
    "\n",
    "param_grid = {\n",
    "    'max_depth': [5, 10, 15],\n",
    "    'min_samples_split': [2, 5, 10],\n",
    "    'min_samples_leaf': [1, 2, 5],\n",
    "    'max_features': [None, 'sqrt', 'log2']\n",
    "}\n",
    "\n",
    "grid_search = GridSearchCV(\n",
    "    estimator=dt_regressor,\n",
    "    param_grid=param_grid,\n",
    "    scoring='r2',\n",
    "    cv=5,\n",
    "    verbose=2,\n",
    "    n_jobs=-1\n",
    ")\n",
    "\n",
    "grid_search.fit(X_train_scaled, y_train)\n",
    "best_model = grid_search.best_estimator_\n",
    "y_pred = best_model.predict(X_test_scaled)\n",
    "r2 = r2_score(y_test, y_pred)\n",
    "rmse = np.sqrt(mean_squared_error(y_test, y_pred))"
   ]
  },
  {
   "cell_type": "code",
   "execution_count": 4,
   "id": "cc2c269c-a970-48f9-a530-3dfb80f86fbc",
   "metadata": {},
   "outputs": [
    {
     "name": "stdout",
     "output_type": "stream",
     "text": [
      "r2 score: 0.997497839518867\n",
      "Rmse: 0.014144042697894562\n"
     ]
    }
   ],
   "source": [
    "print(\"r2 score:\",r2)\n",
    "print(\"Rmse:\",rmse)"
   ]
  },
  {
   "cell_type": "code",
   "execution_count": 5,
   "id": "fe1b2930-f93e-46e7-97d7-f4e4b7d5262f",
   "metadata": {},
   "outputs": [
    {
     "name": "stdout",
     "output_type": "stream",
     "text": [
      "Root Mean Squared Error: 0.014144042697894562\n",
      "R2 Score: 0.997497839518867\n"
     ]
    }
   ],
   "source": [
    "y_pred = best_model.predict(X_test_scaled)\n",
    "mse = mean_squared_error(y_test, y_pred)\n",
    "rmse = np.sqrt(mse)\n",
    "print(\"Root Mean Squared Error:\", rmse)\n",
    "r2 = r2_score(y_test, y_pred)\n",
    "print(f\"R2 Score: {r2}\")"
   ]
  },
  {
   "cell_type": "code",
   "execution_count": 6,
   "id": "0fcaa25b-2028-46dd-9f06-6b42dadbeb90",
   "metadata": {},
   "outputs": [],
   "source": [
    "df2=pd.read_csv('testsscurve.csv')\n",
    "x1_test=df2.drop('stress',axis=1)\n",
    "y1_test=df2['stress']\n",
    "x1_test_scaled=scaler.transform(x1_test)"
   ]
  },
  {
   "cell_type": "code",
   "execution_count": 7,
   "id": "d810727b-fdc8-40ad-9c0b-710a8d88dabb",
   "metadata": {},
   "outputs": [
    {
     "name": "stdout",
     "output_type": "stream",
     "text": [
      "R2 Score: 0.8592932332225646\n",
      "Mean Squared Error: 0.0002000539438398645\n",
      "Root Mean Squared Error: 0.014144042697894562\n"
     ]
    }
   ],
   "source": [
    "y1_pred = best_model.predict(x1_test_scaled)\n",
    "r2 = r2_score(y1_test, y1_pred)\n",
    "print(f\"R2 Score: {r2}\")\n",
    "mse = mean_squared_error(y_test, y_pred)\n",
    "print(f\"Mean Squared Error: {mse}\")\n",
    "rmse=np.sqrt(mse)\n",
    "print(f\"Root Mean Squared Error: {rmse}\")"
   ]
  },
  {
   "cell_type": "code",
   "execution_count": 8,
   "id": "2f4746cb-e255-4cda-9335-bf183ba639ad",
   "metadata": {},
   "outputs": [],
   "source": [
    "np.savetxt('output_decisiontree.csv',y1_pred, delimiter=',', fmt='%f')"
   ]
  }
 ],
 "metadata": {
  "kernelspec": {
   "display_name": "Python 3 (ipykernel)",
   "language": "python",
   "name": "python3"
  },
  "language_info": {
   "codemirror_mode": {
    "name": "ipython",
    "version": 3
   },
   "file_extension": ".py",
   "mimetype": "text/x-python",
   "name": "python",
   "nbconvert_exporter": "python",
   "pygments_lexer": "ipython3",
   "version": "3.12.4"
  }
 },
 "nbformat": 4,
 "nbformat_minor": 5
}
